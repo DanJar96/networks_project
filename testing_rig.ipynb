{
 "cells": [
  {
   "cell_type": "code",
   "execution_count": 1,
   "metadata": {},
   "outputs": [],
   "source": [
    "from utils import *\n",
    "import os"
   ]
  },
  {
   "cell_type": "code",
   "execution_count": 5,
   "metadata": {},
   "outputs": [
    {
     "name": "stdout",
     "output_type": "stream",
     "text": [
      "Node 46 is infected!\n",
      "Node 174 is infected!\n",
      "['2.png', '1.png', '3.png', '0.png', '6.png', '4.png', '5.png']\n"
     ]
    }
   ],
   "source": [
    "# Setting backend so that we don't show the stages..\n",
    "# matplotlib.use('Agg')\n",
    "\n",
    "# Getting model\n",
    "n = 200\n",
    "model = MJDM(n)\n",
    "\n",
    "# Creating community structure\n",
    "# parameters..\n",
    "c_intra = 5\n",
    "\n",
    "c_inter = 1\n",
    "p_inter = float(c_inter/(n-1))\n",
    "\n",
    "sociality = 0.9\n",
    "\n",
    "no_communities = 3\n",
    "model.assign_community(no_communities, c_intra = c_intra, c_inter=c_inter, sociality = sociality)\n",
    "\n",
    "# Assigning infection paramets, \n",
    "# infecting certain nodes\n",
    "no_infected = 2\n",
    "infection_period = 3\n",
    "recovery_period = 5\n",
    "p_infection = 0.9\n",
    "\n",
    "model.infect(p_infection = p_infection, no_infected = no_infected, infection_period = infection_period, recovery_period = recovery_period)\n",
    "\n",
    "for node in range(len(model.graph.nodes)):\n",
    "    if model.graph.nodes[node]['infected'] == 1:\n",
    "        print(f\"Node {node} is infected!\")\n",
    "\n",
    "# Getting spring layout fixed positions for plotting\n",
    "model.get_fixed_positions()\n",
    "\n",
    "\n",
    "model.grapher(iteration = 0)\n",
    "\n",
    "for i in range(10):\n",
    "    infecting_edges = model.advance_disease()\n",
    "    if len(infecting_edges) == 0 & (sum(nx.get_node_attributes(model.graph,'infected').values()) == 0):\n",
    "        break\n",
    "    model.grapher(infecting_edges, iteration = i+1)\n",
    "\n",
    "to_gif()"
   ]
  }
 ],
 "metadata": {
  "interpreter": {
   "hash": "916dbcbb3f70747c44a77c7bcd40155683ae19c65e1c03b4aa3499c5328201f1"
  },
  "kernelspec": {
   "display_name": "Python 3.8.10 64-bit",
   "language": "python",
   "name": "python3"
  },
  "language_info": {
   "codemirror_mode": {
    "name": "ipython",
    "version": 3
   },
   "file_extension": ".py",
   "mimetype": "text/x-python",
   "name": "python",
   "nbconvert_exporter": "python",
   "pygments_lexer": "ipython3",
   "version": "3.8.10"
  },
  "orig_nbformat": 4
 },
 "nbformat": 4,
 "nbformat_minor": 2
}
